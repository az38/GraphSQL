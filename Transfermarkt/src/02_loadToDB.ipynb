{
 "cells": [
  {
   "cell_type": "markdown",
   "metadata": {},
   "source": [
    "# connection to DB config and open"
   ]
  },
  {
   "cell_type": "code",
   "execution_count": null,
   "metadata": {},
   "outputs": [],
   "source": [
    "import pyodbc\n",
    "import pandas as pd\n",
    "import glob\n",
    "server = '<server>.database.windows.net'\n",
    "database = '<database>'\n",
    "username = '<username>'\n",
    "password = '<password>'\n",
    "driver= '{ODBC Driver 17 for SQL Server}'\n",
    "conn = pyodbc.connect('DRIVER='+driver+';SERVER=tcp:'+server+';PORT=1433;DATABASE='+database+';UID='+username+';PWD='+ password)"
   ]
  },
  {
   "cell_type": "markdown",
   "metadata": {},
   "source": [
    "# create graph tables"
   ]
  },
  {
   "cell_type": "code",
   "execution_count": 30,
   "metadata": {},
   "outputs": [],
   "source": [
    "crsr = conn.cursor()\n",
    "crsr.execute(\"CREATE TABLE Clubs (ID INTEGER PRIMARY KEY, Name VARCHAR(100)) AS NODE\")\n",
    "crsr.execute(\"CREATE TABLE Players (ID INTEGER PRIMARY KEY, Name VARCHAR(100)) AS NODE\")\n",
    "crsr.execute(\"CREATE TABLE Squad (year INTEGER, joined INTEGER) AS EDGE\")\n",
    "conn.commit()\n",
    "crsr.close()"
   ]
  },
  {
   "cell_type": "markdown",
   "metadata": {},
   "source": [
    "# load clubs to the node"
   ]
  },
  {
   "cell_type": "code",
   "execution_count": 17,
   "metadata": {},
   "outputs": [],
   "source": [
    "clubs = pd.read_csv('../data/clubs.csv')\n",
    "\n",
    "cursor = conn.cursor()\n",
    "# Insert Dataframe into SQL Server:\n",
    "for index, row in clubs.iterrows():\n",
    "     cursor.execute(\"INSERT INTO dbo.Clubs (ID, Name) values(?,?)\", row['id'], row['name'])\n",
    "conn.commit()\n",
    "cursor.close()"
   ]
  },
  {
   "cell_type": "markdown",
   "metadata": {},
   "source": [
    "# load unique players to Players node"
   ]
  },
  {
   "cell_type": "code",
   "execution_count": null,
   "metadata": {},
   "outputs": [],
   "source": [
    "files = glob.glob(\"..\\data\\player*.csv\")\n",
    "dfs = [pd.read_csv(f) for f in files]\n",
    "\n",
    "players = pd.concat(dfs,ignore_index=True).loc[:, ['id', 'name']].drop_duplicates()\n",
    "print(players.head())\n",
    "\n",
    "cursor = conn.cursor()\n",
    "# Insert Dataframe into SQL Server:\n",
    "for index, row in players.iterrows():\n",
    "     cursor.execute(\"INSERT INTO dbo.Players (ID, Name) values(?,?)\", row['id'], row['name'])\n",
    "conn.commit()\n",
    "cursor.close()"
   ]
  },
  {
   "cell_type": "markdown",
   "metadata": {},
   "source": [
    "# load rosters year-by-year"
   ]
  },
  {
   "cell_type": "code",
   "execution_count": 33,
   "metadata": {},
   "outputs": [],
   "source": [
    "files = glob.glob(\"..\\data\\players*.csv\")\n",
    "dfs = [pd.read_csv(f) for f in files]\n",
    "\n",
    "players = pd.concat(dfs,ignore_index=True)\n",
    "players['joined'].replace('False', 0, inplace=True)\n",
    "\n",
    "cursor = conn.cursor()\n",
    "# Insert Dataframe into SQL Server:\n",
    "for index, row in players.iterrows():\n",
    "     cursor.execute(\"INSERT INTO dbo.Squad values ((SELECT $node_id FROM Clubs WHERE ID = ?),(SELECT $node_id FROM Players WHERE ID = ?), ?, ?)\", row['club'], row['id'], row['year'], row['joined'])\n",
    "conn.commit()\n",
    "cursor.close()"
   ]
  },
  {
   "cell_type": "code",
   "execution_count": 28,
   "metadata": {},
   "outputs": [],
   "source": [
    "conn.close()"
   ]
  }
 ],
 "metadata": {
  "kernelspec": {
   "display_name": "Python 3",
   "language": "python",
   "name": "python3"
  },
  "language_info": {
   "codemirror_mode": {
    "name": "ipython",
    "version": 3
   },
   "file_extension": ".py",
   "mimetype": "text/x-python",
   "name": "python",
   "nbconvert_exporter": "python",
   "pygments_lexer": "ipython3",
   "version": "3.11.5"
  }
 },
 "nbformat": 4,
 "nbformat_minor": 2
}
