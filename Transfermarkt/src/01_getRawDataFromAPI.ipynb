{
 "cells": [
  {
   "cell_type": "code",
   "execution_count": 2,
   "metadata": {},
   "outputs": [],
   "source": [
    "import requests\n",
    "import pandas as pd\n",
    "import json"
   ]
  },
  {
   "cell_type": "markdown",
   "metadata": {},
   "source": [
    "# config\n",
    "# API: https://rapidapi.com/apidojo/api/transfermarket\n",
    "# https://www.linkedin.com/company/rapidapi/"
   ]
  },
  {
   "cell_type": "code",
   "execution_count": 10,
   "metadata": {},
   "outputs": [],
   "source": [
    "url = \"https://transfermarket.p.rapidapi.com/clubs/list-by-competition\"\n",
    "\n",
    "headers = {\n",
    "\t\"X-RapidAPI-Key\": \"<RapidAPI-key>\",\n",
    "\t\"X-RapidAPI-Host\": \"transfermarket.p.rapidapi.com\"\n",
    "} \n",
    "\n",
    "years = ['2014', '2015', '2016', '2017', '2018', '2019', '2020', '2021', '2022', '2023']"
   ]
  },
  {
   "cell_type": "markdown",
   "metadata": {},
   "source": [
    "# Retrieve clubs from current season\n",
    "# L1 - German Bundesliga"
   ]
  },
  {
   "cell_type": "code",
   "execution_count": 50,
   "metadata": {},
   "outputs": [],
   "source": [
    "querystring = {\"id\":\"L1\",\"domain\":\"en\"}\n",
    "\n",
    "response = requests.get(url, headers=headers, params=querystring)\n",
    "\n",
    "s = response.json()\n",
    "\n",
    "j = json.dumps(s).replace(\"M'gladbach\", \"Mgladbach\").replace(\"K'lautern\", \"Klautern\").replace(\"'\", '\"')\n",
    "\n",
    "c = json.loads(j)\n",
    "\n",
    "clubs = pd.json_normalize(c['clubs']).loc[:, 'id':'name']\n",
    "clubs.to_csv('../data/clubs.csv', index=False)\n"
   ]
  },
  {
   "cell_type": "markdown",
   "metadata": {},
   "source": [
    "# Retrieve the list of players by years"
   ]
  },
  {
   "cell_type": "code",
   "execution_count": null,
   "metadata": {},
   "outputs": [],
   "source": [
    "url = \"https://transfermarket.p.rapidapi.com/clubs/get-squad\"\n",
    "\n",
    "clubs = pd.read_csv('../data/clubs.csv')\n",
    "\n",
    "for y in years:\n",
    "    print(f'year: {y}')\n",
    "    players = pd.DataFrame(columns=['id', 'name', 'club'])\n",
    "    for ind in clubs.index:\n",
    "        print(f'club: {clubs[\"id\"][ind]}')\n",
    "        querystring = {\"id\":clubs['id'][ind], \"saison_id\":y, \"domain\":\"en\"}\n",
    "\n",
    "        response = requests.get(url, headers=headers, params=querystring)\n",
    "\n",
    "        s = response.json()\n",
    "\n",
    "        #print(s)\n",
    "\n",
    "        j = json.dumps(s).replace(\"M'gladbach\", \"Mgladbach\").replace(\"K'lautern\", \"Klautern\").replace(\"'\", '\"')\n",
    "\n",
    "        p = json.loads(j)\n",
    "\n",
    "        club_players = pd.json_normalize(p['squad']).loc[:, 'id':'name']\n",
    "        club_players['club'] = clubs['id'][ind]\n",
    "        \n",
    "        players = pd.concat([players, club_players])\n",
    "\n",
    "    players['year'] = y\n",
    "    players.to_csv(f'../data/players-{y}.csv', index=False)\n"
   ]
  }
 ],
 "metadata": {
  "kernelspec": {
   "display_name": "Python 3",
   "language": "python",
   "name": "python3"
  },
  "language_info": {
   "codemirror_mode": {
    "name": "ipython",
    "version": 3
   },
   "file_extension": ".py",
   "mimetype": "text/x-python",
   "name": "python",
   "nbconvert_exporter": "python",
   "pygments_lexer": "ipython3",
   "version": "3.11.5"
  }
 },
 "nbformat": 4,
 "nbformat_minor": 2
}
